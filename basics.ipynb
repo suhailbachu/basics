{
  "nbformat": 4,
  "nbformat_minor": 0,
  "metadata": {
    "colab": {
      "provenance": [],
      "authorship_tag": "ABX9TyOB9jkn3DUB9ksVv/RIkV8X",
      "include_colab_link": true
    },
    "kernelspec": {
      "name": "python3",
      "display_name": "Python 3"
    },
    "language_info": {
      "name": "python"
    }
  },
  "cells": [
    {
      "cell_type": "markdown",
      "metadata": {
        "id": "view-in-github",
        "colab_type": "text"
      },
      "source": [
        "<a href=\"https://colab.research.google.com/github/suhailbachu/basics/blob/master/basics.ipynb\" target=\"_parent\"><img src=\"https://colab.research.google.com/assets/colab-badge.svg\" alt=\"Open In Colab\"/></a>"
      ]
    },
    {
      "cell_type": "code",
      "execution_count": null,
      "metadata": {
        "id": "fZK0hWuB4Sgc"
      },
      "outputs": [],
      "source": []
    },
    {
      "cell_type": "code",
      "source": [
        "#python\n",
        "  #high level language\n",
        "  #intrepreter language\n",
        "  #dynamically typed\n",
        "  # follows oops\n",
        "\n",
        "\n",
        "a=2\n",
        "b=5\n",
        "c=a+b\n",
        "print(c)\n",
        "\n",
        "\n",
        "d=int(input(\"enter the first number\"))\n",
        "e=int(input(\"enter the second number\"))\n",
        "f=d+e\n",
        "print(f)\n"
      ],
      "metadata": {
        "colab": {
          "base_uri": "https://localhost:8080/"
        },
        "id": "nNCa2OsfAntx",
        "outputId": "8310fef1-8a8b-4c7c-d3ca-7a2f67d07c4e"
      },
      "execution_count": 4,
      "outputs": [
        {
          "output_type": "stream",
          "name": "stdout",
          "text": [
            "7\n",
            "enter the first number10\n",
            "enter the second number20\n",
            "30\n"
          ]
        }
      ]
    },
    {
      "cell_type": "code",
      "source": [],
      "metadata": {
        "id": "jcRXKBggEMzx"
      },
      "execution_count": null,
      "outputs": []
    },
    {
      "cell_type": "code",
      "source": [
        "a=int(input(\"enter the 1st number\"))\n",
        "b=int(input(\"enter the second number\"))\n",
        "c=a*b\n",
        "print(c)\n",
        "\n",
        "d=int(input(\"enter the 1st number\"))\n",
        "e=int(input(\"enter the 2nd number\"))\n",
        "f=d/e\n",
        "print(f)"
      ],
      "metadata": {
        "colab": {
          "base_uri": "https://localhost:8080/"
        },
        "id": "_SeKT_UNDSjR",
        "outputId": "be437952-1621-4d7e-fd12-d887b00ce744"
      },
      "execution_count": 6,
      "outputs": [
        {
          "output_type": "stream",
          "name": "stdout",
          "text": [
            "enter the 1st number20\n",
            "enter the second number25\n",
            "500\n",
            "enter the 1st number10\n",
            "enter the 2nd number4\n",
            "2.5\n"
          ]
        }
      ]
    },
    {
      "cell_type": "code",
      "source": [
        "\n",
        "b=int(input(\"enter the age\"))\n",
        "if b>=18:\n",
        "  print(\"eligible\")\n",
        "else:\n",
        "  print( \"not eligible\")"
      ],
      "metadata": {
        "id": "jnu4wkyiI55T",
        "outputId": "d36c4adf-aa78-4a78-c660-2de237755ab3",
        "colab": {
          "base_uri": "https://localhost:8080/"
        }
      },
      "execution_count": 10,
      "outputs": [
        {
          "output_type": "stream",
          "name": "stdout",
          "text": [
            "enter the age20\n",
            "eligible\n"
          ]
        }
      ]
    },
    {
      "cell_type": "code",
      "source": [
        "#conditions\n",
        "\n",
        "a=2\n",
        "if a>20:\n",
        "  print(\"pass\")\n",
        "elif a<20:\n",
        "  print(\"fail\")\n",
        "else:\n",
        "  print(\"m\")"
      ],
      "metadata": {
        "colab": {
          "base_uri": "https://localhost:8080/"
        },
        "id": "WkgewmaVHGf6",
        "outputId": "7645ccd8-ca19-4f87-d06c-6d117a8a03ca"
      },
      "execution_count": 8,
      "outputs": [
        {
          "output_type": "stream",
          "name": "stdout",
          "text": [
            "pass\n"
          ]
        }
      ]
    },
    {
      "cell_type": "code",
      "source": [
        "a=int(input(\"enter the 1st num\"))\n",
        "b=int(input(\"enter the second num\"))\n",
        "c=int(input(\"enter the third num\"))\n",
        "\n",
        "if a>b and a>c:\n",
        "  print(\"a is greatest\")\n",
        "elif b>a and b>c:\n",
        "  print(\"b is greatest\")\n",
        "else:\n",
        "  print(\"c isthe greatest\")"
      ],
      "metadata": {
        "id": "RAkrAbpiKBR2",
        "outputId": "d4f87087-a223-4c91-c8ac-86804a80e42e",
        "colab": {
          "base_uri": "https://localhost:8080/"
        }
      },
      "execution_count": 11,
      "outputs": [
        {
          "output_type": "stream",
          "name": "stdout",
          "text": [
            "enter the 1st num10\n",
            "enter the second num50\n",
            "enter the third num8\n",
            "b is greatest\n"
          ]
        }
      ]
    },
    {
      "cell_type": "code",
      "source": [
        "a=int(input(\"enter the mark\"))\n",
        "if a>10 and a<20:\n",
        "  print(\"grade D\")\n",
        "elif a>20 and a<30:\n",
        "  print(\"grade C\")\n",
        "elif a>30 and a<40:\n",
        "  print(\"grade B\")\n",
        "elif a>40 and a<50:\n",
        "  print(\"grade A\")\n",
        "else:\n",
        "  print(\"fail\")"
      ],
      "metadata": {
        "id": "hi2CsZI_L80-",
        "outputId": "6ce3627a-248d-4ad3-896e-e0bb01bc2bc5",
        "colab": {
          "base_uri": "https://localhost:8080/"
        }
      },
      "execution_count": 2,
      "outputs": [
        {
          "output_type": "stream",
          "name": "stdout",
          "text": [
            "enter the mark23\n",
            "grade C\n"
          ]
        }
      ]
    }
  ]
}